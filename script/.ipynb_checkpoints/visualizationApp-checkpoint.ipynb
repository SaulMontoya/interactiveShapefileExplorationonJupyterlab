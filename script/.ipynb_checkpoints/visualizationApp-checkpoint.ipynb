{
 "cells": [
  {
   "cell_type": "code",
   "execution_count": null,
   "metadata": {},
   "outputs": [],
   "source": [
    "#import required packages\n",
    "import os, json\n",
    "import geopandas as gpd\n",
    "from ipywidgets import widgets\n",
    "from ipyleaflet import Map, GeoData, basemaps, LayersControl, ScaleControl, FullScreenControl, WidgetControl\n",
    "from ipywidgets import widgets, IntSlider, jslink"
   ]
  },
  {
   "cell_type": "code",
   "execution_count": null,
   "metadata": {},
   "outputs": [],
   "source": [
    "#get shapefile name list\n",
    "shpList = [x[:-4] for x in os.listdir('../shp') if x[-3:]=='shp']\n",
    "\n",
    "#dropdown widget\n",
    "selDrop = widgets.Dropdown(\n",
    "    options=shpList,\n",
    "    value=shpList[0],\n",
    "    description='Shapefile:',\n",
    "    disabled=False,\n",
    ")\n",
    "\n",
    "display(selDrop)\n",
    "\n",
    "#button widget\n",
    "selBot = widgets.Button(\n",
    "    description='Select shapefile',\n",
    "    disabled=False,\n",
    "    button_style='success', # 'success', 'info', 'warning', 'danger' or ''\n",
    "    tooltip='Select shapefile',\n",
    "    icon='check'\n",
    ")\n",
    "\n",
    "display(selBot)\n",
    "\n",
    "#map object\n",
    "m = Map(center=(52.3,8.0), zoom = 10, \n",
    "        basemap = basemaps.OpenTopoMap)\n",
    "\n",
    "zoom_slider = IntSlider(description='Zoom level:', min=0, max=15, value=10)\n",
    "jslink((zoom_slider, 'value'), (m, 'zoom'))\n",
    "widgetControl = WidgetControl(widget=zoom_slider, position='topright')\n",
    "m.add_control(widgetControl)\n",
    "\n",
    "m.add_layer(basemaps.OpenStreetMap.Mapnik)\n",
    "m.add_control(ScaleControl(position='bottomleft'))\n",
    "m.add_control(FullScreenControl(position='topright'))\n",
    "m.add_control(LayersControl())\n",
    "display(m)\n",
    "\n",
    "#show map function\n",
    "def showMap(selShp):\n",
    "    \n",
    "    selDf = gpd.read_file('../shp/'+selShp+'.shp')\n",
    "\n",
    "\n",
    "    geoDf = selDf.to_crs(4326)\n",
    "    lonCent = (geoDf.bounds.maxx + geoDf.bounds.minx).mean()/2\n",
    "    latCent = (geoDf.bounds.maxy + geoDf.bounds.miny).mean()/2\n",
    "\n",
    "    m.center = (latCent,lonCent)\n",
    "    geoData = GeoData(geo_dataframe=geoDf, name=selShp)\n",
    "    m.add_layer(geoData)\n",
    "    \n",
    "#on click function\n",
    "def on_button_clicked(b):\n",
    "    showMap(selDrop.value)\n",
    "\n",
    "selBot.on_click(on_button_clicked)\n",
    "\n",
    "\n"
   ]
  },
  {
   "cell_type": "code",
   "execution_count": null,
   "metadata": {},
   "outputs": [],
   "source": []
  }
 ],
 "metadata": {
  "kernelspec": {
   "display_name": "Python 3",
   "language": "python",
   "name": "python3"
  },
  "language_info": {
   "codemirror_mode": {
    "name": "ipython",
    "version": 3
   },
   "file_extension": ".py",
   "mimetype": "text/x-python",
   "name": "python",
   "nbconvert_exporter": "python",
   "pygments_lexer": "ipython3",
   "version": "3.8.6"
  }
 },
 "nbformat": 4,
 "nbformat_minor": 4
}
